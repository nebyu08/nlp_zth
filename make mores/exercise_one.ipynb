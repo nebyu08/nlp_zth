{
 "cells": [
  {
   "cell_type": "code",
   "execution_count": 2,
   "id": "4d1ad89f-473f-4e27-9d9e-988a9281fe94",
   "metadata": {},
   "outputs": [],
   "source": [
    "import torch\n",
    "import torch.nn.functional as F\n",
    "import matplotlib.pyplot as plt"
   ]
  },
  {
   "cell_type": "code",
   "execution_count": 3,
   "id": "2d5627e8-02df-43be-8322-e1e78bee9661",
   "metadata": {},
   "outputs": [],
   "source": [
    "words=open(\"names.txt\",\"r\").read().splitlines()"
   ]
  },
  {
   "cell_type": "code",
   "execution_count": 4,
   "id": "a555bb8f-03ca-468d-a2c1-29a3ecc4d98c",
   "metadata": {},
   "outputs": [],
   "source": [
    "chars=sorted(list(set(\"\".join(words))))\n",
    "stoi = {s:i+1 for i,s in enumerate(chars)}\n",
    "stoi['.'] = 0\n",
    "itos = {i:s for s,i in stoi.items()}\n",
    "vocab_size = len(itos)"
   ]
  },
  {
   "cell_type": "code",
   "execution_count": 5,
   "id": "ff22f278-5fe6-4611-b5c9-44075bb99f1d",
   "metadata": {},
   "outputs": [
    {
     "name": "stdout",
     "output_type": "stream",
     "text": [
      "torch.Size([182625, 3]) torch.Size([182625])\n",
      "torch.Size([22655, 3]) torch.Size([22655])\n",
      "torch.Size([22866, 3]) torch.Size([22866])\n"
     ]
    }
   ],
   "source": [
    "# build the dataset\n",
    "block_size = 3 # context length: how many characters do we take to predict the next one?\n",
    "\n",
    "def build_dataset(words):  \n",
    "  X, Y = [], []\n",
    "  \n",
    "  for w in words:\n",
    "    context = [0] * block_size\n",
    "    for ch in w + '.':\n",
    "      ix = stoi[ch]\n",
    "      X.append(context)\n",
    "      Y.append(ix)\n",
    "      context = context[1:] + [ix] # crop and append\n",
    "\n",
    "  X = torch.tensor(X)\n",
    "  Y = torch.tensor(Y)\n",
    "  print(X.shape, Y.shape)\n",
    "  return X, Y\n",
    "\n",
    "import random\n",
    "random.seed(42)\n",
    "random.shuffle(words)\n",
    "n1 = int(0.8*len(words))\n",
    "n2 = int(0.9*len(words))\n",
    "\n",
    "Xtr,  Ytr  = build_dataset(words[:n1])     # 80%\n",
    "Xdev, Ydev = build_dataset(words[n1:n2])   # 10%\n",
    "Xte,  Yte  = build_dataset(words[n2:])     # 10%"
   ]
  },
  {
   "cell_type": "code",
   "execution_count": 6,
   "id": "0d59f87a-193a-4cc2-84c9-6dc533984b9f",
   "metadata": {},
   "outputs": [
    {
     "name": "stdout",
     "output_type": "stream",
     "text": [
      "4137\n"
     ]
    }
   ],
   "source": [
    "n_embd = 10 \n",
    "n_hidden = 64 \n",
    "\n",
    "g = torch.Generator().manual_seed(2147483647) # for reproducibility\n",
    "C  = torch.randn((vocab_size, n_embd),            generator=g)\n",
    "# Layer 1\n",
    "W1 = torch.randn((n_embd * block_size, n_hidden), generator=g) * (5/3)/((n_embd * block_size)**0.5)\n",
    "b1 = torch.randn(n_hidden,                        generator=g) * 0.1 # using b1 just for fun, it's useless because of BN\n",
    "# Layer 2\n",
    "W2 = torch.randn((n_hidden, vocab_size),          generator=g) * 0.1\n",
    "b2 = torch.randn(vocab_size,                      generator=g) * 0.1\n",
    "# BatchNorm parameters\n",
    "bngain = torch.randn((1, n_hidden))*0.1 + 1.0\n",
    "bnbias = torch.randn((1, n_hidden))*0.1\n",
    "\n",
    "parameters = [C, W1, b1, W2, b2, bngain, bnbias]\n",
    "print(sum(p.nelement() for p in parameters)) \n",
    "for p in parameters:\n",
    "  p.requires_grad = True"
   ]
  },
  {
   "cell_type": "code",
   "execution_count": 7,
   "id": "74d75051-11b2-499d-9b1f-15ae5fa129c5",
   "metadata": {},
   "outputs": [],
   "source": [
    "def cmp(s,dt,t):\n",
    "    ex=torch.all(dt==t.grad)\n",
    "    app=torch.allclose(dt,t.grad)\n",
    "    maxdiff=(dt-t.grad).abs().max().item()\n",
    "    print(f\"{s:15s} | exact : {ex} | approximate {app}|  and | maxdiff {maxdiff}\")"
   ]
  },
  {
   "cell_type": "code",
   "execution_count": 8,
   "id": "82f6a02d-6949-43f6-8486-838b900a3610",
   "metadata": {},
   "outputs": [],
   "source": [
    "batch_size = 32\n",
    "n = batch_size # a shorter variable also, for convenience\n",
    "# construct a minibatch\n",
    "ix = torch.randint(0, Xtr.shape[0], (batch_size,), generator=g)\n",
    "Xb, Yb = Xtr[ix], Ytr[ix] # batch X,Y"
   ]
  },
  {
   "cell_type": "code",
   "execution_count": 9,
   "id": "fd7c9bdd-86c7-4751-ab1a-dbc4b6949a39",
   "metadata": {},
   "outputs": [
    {
     "data": {
      "text/plain": [
       "tensor(3.3509, grad_fn=<NegBackward0>)"
      ]
     },
     "execution_count": 9,
     "metadata": {},
     "output_type": "execute_result"
    }
   ],
   "source": [
    "emb = C[Xb]\n",
    "embcat = emb.view(emb.shape[0], -1) \n",
    "# Linear layer 1\n",
    "hprebn = embcat @ W1 + b1 \n",
    "# BatchNorm layer\n",
    "bnmeani = 1/n*hprebn.sum(0, keepdim=True)\n",
    "bndiff = hprebn - bnmeani\n",
    "bndiff2 = bndiff**2\n",
    "bnvar = 1/(n-1)*(bndiff2).sum(0, keepdim=True) #\n",
    "bnvar_inv = (bnvar + 1e-5)**-0.5\n",
    "bnraw = bndiff * bnvar_inv\n",
    "hpreact = bngain * bnraw + bnbias\n",
    "\n",
    "h = torch.tanh(hpreact) \n",
    "\n",
    "#activation\n",
    "logits = h @ W2 + b2 \n",
    "# cross entropy loss (same as F.cross_entropy(logits, Yb))\n",
    "logit_maxes = logits.max(1, keepdim=True).values\n",
    "norm_logits = logits - logit_maxes \n",
    "counts = norm_logits.exp()\n",
    "counts_sum = counts.sum(1, keepdims=True)\n",
    "counts_sum_inv = counts_sum**-1 \n",
    "probs = counts * counts_sum_inv\n",
    "logprobs = probs.log()\n",
    "loss = -logprobs[range(n), Yb].mean()\n",
    "\n",
    "#pytorch's implementation of back propagation\n",
    "for t in [logprobs, probs, counts, counts_sum, counts_sum_inv, # afaik there is no cleaner way\n",
    "          norm_logits, logit_maxes, logits, h, hpreact, bnraw,\n",
    "         bnvar_inv, bnvar, bndiff2, bndiff, hprebn, bnmeani,\n",
    "         embcat, emb]:\n",
    "    t.retain_grad()\n",
    "\n",
    "loss.backward()\n",
    "loss"
   ]
  },
  {
   "cell_type": "code",
   "execution_count": 10,
   "id": "27b08c38-62d3-477e-81e0-20574b008a7b",
   "metadata": {},
   "outputs": [
    {
     "name": "stdout",
     "output_type": "stream",
     "text": [
      "logprobs        | exact : True | approximate True|  and | maxdiff 0.0\n",
      "lprobs          | exact : True | approximate True|  and | maxdiff 0.0\n",
      "cocunts_sum_inv | exact : True | approximate True|  and | maxdiff 0.0\n",
      "counts_sum      | exact : True | approximate True|  and | maxdiff 0.0\n",
      "counts          | exact : True | approximate True|  and | maxdiff 0.0\n",
      "normlogits      | exact : True | approximate True|  and | maxdiff 0.0\n",
      "logit_maxes     | exact : True | approximate True|  and | maxdiff 0.0\n",
      "logit           | exact : True | approximate True|  and | maxdiff 0.0\n",
      "h               | exact : True | approximate True|  and | maxdiff 0.0\n",
      "w2              | exact : True | approximate True|  and | maxdiff 0.0\n",
      "b2              | exact : True | approximate True|  and | maxdiff 0.0\n",
      "hpreact         | exact : True | approximate True|  and | maxdiff 0.0\n",
      "bngain          | exact : True | approximate True|  and | maxdiff 0.0\n",
      "bnbias          | exact : True | approximate True|  and | maxdiff 0.0\n",
      "bnraw           | exact : True | approximate True|  and | maxdiff 0.0\n",
      "bnvar_inv       | exact : True | approximate True|  and | maxdiff 0.0\n",
      "bnvar           | exact : True | approximate True|  and | maxdiff 0.0\n",
      "bndiff2         | exact : True | approximate True|  and | maxdiff 0.0\n",
      "bndiff          | exact : True | approximate True|  and | maxdiff 0.0\n",
      "bmeani          | exact : True | approximate True|  and | maxdiff 0.0\n",
      "hprebn          | exact : True | approximate True|  and | maxdiff 0.0\n",
      "embcat          | exact : True | approximate True|  and | maxdiff 0.0\n",
      "w1              | exact : True | approximate True|  and | maxdiff 0.0\n",
      "b1              | exact : True | approximate True|  and | maxdiff 0.0\n",
      "emb             | exact : True | approximate True|  and | maxdiff 0.0\n",
      "C               | exact : True | approximate True|  and | maxdiff 0.0\n"
     ]
    }
   ],
   "source": [
    "dlogprobs=torch.zeros_like(logprobs)\n",
    "dlogprobs[range(n),Yb]=-1/n\n",
    "dprobs=(1.0/probs) * dlogprobs\n",
    "dcounts_sum_inv=(counts*dprobs).sum(1,keepdim=True)\n",
    "dcounts=(counts_sum_inv*dprobs)\n",
    "dcounts_sum=(-1/counts_sum**2)*dcounts_sum_inv\n",
    "dcounts+=torch.ones_like(counts)*dcounts_sum  # since the node is used twice\n",
    "dnorm_logits=counts*dcounts\n",
    "dlogits=dnorm_logits.clone()  # we are gonna use it later since this node has been used twice\n",
    "dlogit_maxes=(-dnorm_logits).sum(1,keepdim=True)\n",
    "dlogits+=F.one_hot(logits.max(1).indices,num_classes=logits.shape[1])*dlogit_maxes\n",
    "dh=dlogits@W2.T\n",
    "dw2=h.T@dlogits\n",
    "db2=dlogits.sum(0)\n",
    "dhpreact=(1.0-h**2)*dh\n",
    "dbngain=(bnraw*dhpreact).sum(0,keepdim=True)\n",
    "dbnraw=(bngain*dhpreact)\n",
    "dbnbias=dhpreact.sum(0,keepdim=True)\n",
    "dbndiff=bnvar_inv*dbnraw\n",
    "\n",
    "dbnvar_inv=(bndiff*dbnraw).sum(0,keepdim=True)\n",
    "dbnvar=(-0.5*(bnvar+1e-5)**-1.5)*dbnvar_inv\n",
    "dbndiff2=(1/(n-1))*torch.ones_like(bndiff2)*dbnvar\n",
    "dbndiff+=2*bndiff*dbndiff2\n",
    "dhprebn=dbndiff.clone()\n",
    "dbnmeani=(-dbndiff).sum(0)\n",
    "dhprebn+=(1.0/n*(torch.ones_like(hprebn)*dbnmeani))\n",
    "dembcat=dhprebn@W1.T\n",
    "dW1=embcat.T@dhprebn\n",
    "db1=dhprebn.sum(0)\n",
    "demb=dembcat.view(emb.shape)\n",
    "dC=torch.zeros_like(C)\n",
    "for i in range(Xb.shape[0]):\n",
    "    for j in range(Xb.shape[1]):\n",
    "        xi=Xb[i,j]\n",
    "        dC[xi]+=demb[i,j]\n",
    "        \n",
    "cmp(\"logprobs\",dlogprobs,logprobs)\n",
    "cmp(\"lprobs\",dprobs,probs)\n",
    "cmp(\"cocunts_sum_inv\",dcounts_sum_inv,counts_sum_inv)\n",
    "cmp(\"counts_sum\",dcounts_sum,counts_sum)\n",
    "cmp(\"counts\",dcounts,counts)\n",
    "cmp(\"normlogits\",dnorm_logits,norm_logits)\n",
    "cmp(\"logit_maxes\",dlogit_maxes,logit_maxes)\n",
    "cmp(\"logit\",dlogits,logits)\n",
    "cmp(\"h\",dh,h)\n",
    "cmp(\"w2\",dw2,W2)\n",
    "cmp(\"b2\",db2,b2)\n",
    "cmp(\"hpreact\",dhpreact,hpreact)\n",
    "cmp(\"bngain\",dbngain,bngain)\n",
    "cmp(\"bnbias\",dbnbias,bnbias)\n",
    "cmp(\"bnraw\",dbnraw,bnraw)\n",
    "cmp(\"bnvar_inv\",dbnvar_inv,bnvar_inv)\n",
    "cmp(\"bnvar\",dbnvar,bnvar)\n",
    "cmp(\"bndiff2\",dbndiff2,bndiff2)\n",
    "cmp(\"bndiff\",dbndiff,bndiff)\n",
    "cmp(\"bmeani\",dbnmeani,bnmeani)\n",
    "cmp(\"hprebn\",dhprebn,hprebn)\n",
    "cmp(\"embcat\",dembcat,embcat)\n",
    "cmp(\"w1\",dW1,W1)\n",
    "cmp(\"b1\",db1,b1)\n",
    "cmp(\"emb\",demb,emb)\n",
    "cmp(\"C\",dC,C)"
   ]
  },
  {
   "cell_type": "code",
   "execution_count": null,
   "id": "8d65982c-6b71-4656-9c3e-47f15920aab3",
   "metadata": {},
   "outputs": [],
   "source": []
  }
 ],
 "metadata": {
  "kernelspec": {
   "display_name": "Python 3 (ipykernel)",
   "language": "python",
   "name": "python3"
  },
  "language_info": {
   "codemirror_mode": {
    "name": "ipython",
    "version": 3
   },
   "file_extension": ".py",
   "mimetype": "text/x-python",
   "name": "python",
   "nbconvert_exporter": "python",
   "pygments_lexer": "ipython3",
   "version": "3.8.17"
  }
 },
 "nbformat": 4,
 "nbformat_minor": 5
}
