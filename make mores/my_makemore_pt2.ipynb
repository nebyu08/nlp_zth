{
 "cells": [
  {
   "cell_type": "code",
   "execution_count": 17,
   "id": "f0a56b92-059c-4b95-a317-7d538bee669e",
   "metadata": {},
   "outputs": [],
   "source": [
    "import torch \n",
    "import torch.nn.functional as F\n",
    "import matplotlib.pyplot as plt"
   ]
  },
  {
   "cell_type": "code",
   "execution_count": 18,
   "id": "30e0c134-c204-401c-b543-78d5e20788de",
   "metadata": {},
   "outputs": [],
   "source": [
    "words=open(\"names.txt\",\"r\").read().splitlines()"
   ]
  },
  {
   "cell_type": "code",
   "execution_count": 19,
   "id": "0092fe9f-b93b-4c76-b7ea-719d075e30e6",
   "metadata": {},
   "outputs": [
    {
     "data": {
      "text/plain": [
       "32033"
      ]
     },
     "execution_count": 19,
     "metadata": {},
     "output_type": "execute_result"
    }
   ],
   "source": [
    "len(words)"
   ]
  },
  {
   "cell_type": "code",
   "execution_count": 20,
   "id": "92d7e546-83fd-43c2-9f92-15bbc78026b2",
   "metadata": {},
   "outputs": [],
   "source": [
    "# lets make a mapping from string to int and from int to string\n",
    "temp=sorted(list(set(\"\".join(words))))\n",
    "stoi={s:i+1 for i,s in enumerate(temp)}\n",
    "stoi['.']=0\n",
    "itos={i:s for s,i in stoi.items()}"
   ]
  },
  {
   "cell_type": "code",
   "execution_count": 21,
   "id": "bbb419f9-a569-4208-bc8e-3d0f98f3d1cd",
   "metadata": {
    "scrolled": true
   },
   "outputs": [],
   "source": [
    "block_size=3\n",
    "X,Y=[],[]\n",
    "for w in words:\n",
    "    context=[0]*block_size\n",
    "    for ch in w+'.':\n",
    "        ix=stoi[ch]\n",
    "        X.append(context)\n",
    "        Y.append(ix)\n",
    "        #print(\"\".join(itos[i] for i in context),'--->',itos[ix])\n",
    "        context=context[1:]+[ix]\n",
    "\n",
    "X=torch.tensor(X)\n",
    "Y=torch.tensor(Y)"
   ]
  },
  {
   "cell_type": "code",
   "execution_count": 22,
   "id": "17e30ab7-7e36-4bfa-95e1-20d7e533a656",
   "metadata": {},
   "outputs": [
    {
     "data": {
      "text/plain": [
       "(torch.Size([228146, 3]), torch.Size([228146]))"
      ]
     },
     "execution_count": 22,
     "metadata": {},
     "output_type": "execute_result"
    }
   ],
   "source": [
    "X.shape,Y.shape"
   ]
  },
  {
   "cell_type": "code",
   "execution_count": 23,
   "id": "76ceb4c5-a148-4f13-9c2d-b5cc458b1164",
   "metadata": {},
   "outputs": [],
   "source": [
    "C=torch.randn((27,2))"
   ]
  },
  {
   "cell_type": "code",
   "execution_count": 24,
   "id": "dfc2e0d8-2138-4bbe-a460-848ee10956ee",
   "metadata": {},
   "outputs": [
    {
     "data": {
      "text/plain": [
       "tensor(1)"
      ]
     },
     "execution_count": 24,
     "metadata": {},
     "output_type": "execute_result"
    }
   ],
   "source": [
    "X[13,2]"
   ]
  },
  {
   "cell_type": "code",
   "execution_count": 25,
   "id": "05ce72d8-0440-43cf-af1f-fcb3ad8ecf2a",
   "metadata": {},
   "outputs": [
    {
     "data": {
      "text/plain": [
       "tensor([ 1.6951, -0.4229])"
      ]
     },
     "execution_count": 25,
     "metadata": {},
     "output_type": "execute_result"
    }
   ],
   "source": [
    "C[X][13,2]"
   ]
  },
  {
   "cell_type": "code",
   "execution_count": 26,
   "id": "cc380640-f061-4a77-89dc-c1b59c9cef14",
   "metadata": {},
   "outputs": [],
   "source": [
    "# this is the embedding\n",
    "emb=C[X]"
   ]
  },
  {
   "cell_type": "code",
   "execution_count": 27,
   "id": "480534cf-a12d-4ee4-82d3-a92cf3ba2143",
   "metadata": {},
   "outputs": [
    {
     "data": {
      "text/plain": [
       "torch.Size([228146, 3, 2])"
      ]
     },
     "execution_count": 27,
     "metadata": {},
     "output_type": "execute_result"
    }
   ],
   "source": [
    "emb.shape"
   ]
  },
  {
   "cell_type": "code",
   "execution_count": 28,
   "id": "f19f23d5-6b5a-43fc-8b10-c6cc712a3622",
   "metadata": {},
   "outputs": [
    {
     "data": {
      "text/plain": [
       "torch.Size([228146, 2])"
      ]
     },
     "execution_count": 28,
     "metadata": {},
     "output_type": "execute_result"
    }
   ],
   "source": [
    "emb[:,0,:].shape"
   ]
  },
  {
   "cell_type": "code",
   "execution_count": 29,
   "id": "ca1df249-01ae-4b87-a9e8-259aaa9a3cd3",
   "metadata": {},
   "outputs": [],
   "source": [
    "#weight and bias\n",
    "W1=torch.randn((6,100))\n",
    "b1=torch.randn(100)"
   ]
  },
  {
   "cell_type": "code",
   "execution_count": 30,
   "id": "b5caf45b-0c2f-4c88-b412-a5c59cb6ed45",
   "metadata": {
    "scrolled": true
   },
   "outputs": [
    {
     "data": {
      "text/plain": [
       "3"
      ]
     },
     "execution_count": 30,
     "metadata": {},
     "output_type": "execute_result"
    }
   ],
   "source": [
    "len(torch.unbind(emb,1))"
   ]
  },
  {
   "cell_type": "code",
   "execution_count": 31,
   "id": "9e34e00e-41de-423a-ad1e-8f0a453f97e4",
   "metadata": {},
   "outputs": [
    {
     "data": {
      "text/plain": [
       "torch.Size([228146, 3, 2])"
      ]
     },
     "execution_count": 31,
     "metadata": {},
     "output_type": "execute_result"
    }
   ],
   "source": [
    "emb.shape"
   ]
  },
  {
   "cell_type": "code",
   "execution_count": 34,
   "id": "08305c8f-cc5c-40d2-aba5-89889d1a95a3",
   "metadata": {},
   "outputs": [],
   "source": [
    "h=torch.tanh(emb.view(-1,6) @ W1 +b1)"
   ]
  },
  {
   "cell_type": "code",
   "execution_count": 35,
   "id": "43c219bd-0436-4f06-95f9-b77ad980aa79",
   "metadata": {},
   "outputs": [],
   "source": [
    "W2=torch.randn(100,27)\n",
    "b2=torch.randn(27)  "
   ]
  },
  {
   "cell_type": "code",
   "execution_count": 36,
   "id": "46e408ce-abed-49dd-85fd-c06923145a64",
   "metadata": {},
   "outputs": [],
   "source": [
    "logits=h@W2 + b2"
   ]
  },
  {
   "cell_type": "code",
   "execution_count": 37,
   "id": "4545f81b-13a3-4637-8b84-01e50a783403",
   "metadata": {
    "scrolled": true
   },
   "outputs": [
    {
     "data": {
      "text/plain": [
       "tensor([[  1.8170,  -1.9150,  -0.6397,  ...,  -0.2625,  12.5922, -25.8678],\n",
       "        [  3.5879,   1.1730,  -5.1620,  ...,  -0.7861,   9.4559, -16.2662],\n",
       "        [ 10.7541,  -2.5347,   1.8658,  ...,  -0.9201,  12.6078,  -9.6756],\n",
       "        ...,\n",
       "        [ -1.2118,   2.7877,  -4.0255,  ...,   7.8368,  -8.5870,   9.1743],\n",
       "        [ -3.7653,   0.6101,   2.7649,  ...,   6.3913,   2.2204,   3.2907],\n",
       "        [ -4.1575,   8.5410,  -0.0566,  ...,   6.4185,  -2.2700,   0.2710]])"
      ]
     },
     "execution_count": 37,
     "metadata": {},
     "output_type": "execute_result"
    }
   ],
   "source": [
    "logits"
   ]
  },
  {
   "cell_type": "code",
   "execution_count": 38,
   "id": "7e2fb19a-bfa2-4053-86c3-64fcafe56352",
   "metadata": {},
   "outputs": [
    {
     "data": {
      "text/plain": [
       "torch.Size([228146, 27])"
      ]
     },
     "execution_count": 38,
     "metadata": {},
     "output_type": "execute_result"
    }
   ],
   "source": [
    "logits.shape"
   ]
  },
  {
   "cell_type": "code",
   "execution_count": 39,
   "id": "ab42657a-0c59-40ce-9e8c-5f91f9e0e370",
   "metadata": {},
   "outputs": [],
   "source": [
    "counts=logits.exp()"
   ]
  },
  {
   "cell_type": "code",
   "execution_count": 40,
   "id": "4599de17-3dcf-43ca-8341-7b034199bd2a",
   "metadata": {},
   "outputs": [],
   "source": [
    "prob=counts/counts.sum(1,keepdims=True)"
   ]
  },
  {
   "cell_type": "code",
   "execution_count": 41,
   "id": "3a3e53d1-150d-46fb-ac8e-4dbcd219c1a3",
   "metadata": {
    "scrolled": true
   },
   "outputs": [
    {
     "data": {
      "text/plain": [
       "tensor([[4.2540e-07, 1.0186e-08, 3.6466e-08,  ..., 5.3176e-08, 2.0344e-02,\n",
       "         4.0314e-19],\n",
       "        [2.7003e-04, 2.4134e-05, 4.2793e-08,  ..., 3.4027e-06, 9.5465e-02,\n",
       "         6.4402e-13],\n",
       "        [6.1208e-02, 1.0364e-07, 8.4456e-06,  ..., 5.2090e-07, 3.9069e-01,\n",
       "         8.2087e-11],\n",
       "        ...,\n",
       "        [8.3796e-06, 4.5727e-04, 5.0263e-07,  ..., 7.1284e-02, 5.2508e-09,\n",
       "         2.7153e-01],\n",
       "        [6.8642e-07, 5.4552e-05, 4.7057e-04,  ..., 1.7682e-02, 2.7298e-04,\n",
       "         7.9613e-04],\n",
       "        [8.2609e-11, 2.7034e-05, 4.9891e-09,  ..., 3.2369e-06, 5.4548e-10,\n",
       "         6.9231e-09]])"
      ]
     },
     "execution_count": 41,
     "metadata": {},
     "output_type": "execute_result"
    }
   ],
   "source": [
    "prob"
   ]
  },
  {
   "cell_type": "code",
   "execution_count": 42,
   "id": "fe4e1f85-3e9d-4c50-9c93-5feb49f6e6c3",
   "metadata": {},
   "outputs": [
    {
     "data": {
      "text/plain": [
       "torch.Size([228146, 27])"
      ]
     },
     "execution_count": 42,
     "metadata": {},
     "output_type": "execute_result"
    }
   ],
   "source": [
    "prob.shape"
   ]
  },
  {
   "cell_type": "markdown",
   "id": "5a84b4d0-edb2-4750-b608-503f3259cf66",
   "metadata": {},
   "source": [
    "# lets train the model one elemente at a time"
   ]
  },
  {
   "cell_type": "code",
   "execution_count": 45,
   "id": "bc21dcdd-fac7-46df-92f7-0242b66d811d",
   "metadata": {},
   "outputs": [],
   "source": [
    "g = torch.Generator().manual_seed(2147483647)"
   ]
  },
  {
   "cell_type": "code",
   "execution_count": 46,
   "id": "48684d2b-8749-45ec-8e10-0c64f89fffad",
   "metadata": {},
   "outputs": [],
   "source": [
    "C=torch.randn((27,2),generator=g,requires_grad=True)\n",
    "W1=torch.randn((6,100),generator=g,requires_grad=True)\n",
    "b1=torch.randn(100,generator=g,requires_grad=True)\n",
    "W2=torch.randn((100,27),generator=g,requires_grad=True)\n",
    "b2=torch.randn(27,generator=g,requires_grad=True)\n",
    "parameters=[C,W1,b1,W2,b2]"
   ]
  },
  {
   "cell_type": "code",
   "execution_count": 47,
   "id": "0828d54f-6994-4214-bc7f-3a52bc2f94e8",
   "metadata": {},
   "outputs": [
    {
     "data": {
      "text/plain": [
       "3481"
      ]
     },
     "execution_count": 47,
     "metadata": {},
     "output_type": "execute_result"
    }
   ],
   "source": [
    "sum(p.nelement() for p in parameters)"
   ]
  },
  {
   "cell_type": "code",
   "execution_count": 48,
   "id": "207b677d-90ff-4aec-b95b-283c4f9666a8",
   "metadata": {},
   "outputs": [],
   "source": [
    "for p in parameters:\n",
    "    p.requires_grad=True"
   ]
  },
  {
   "cell_type": "code",
   "execution_count": 49,
   "id": "22354dcb-c759-4111-896c-308839727d42",
   "metadata": {
    "scrolled": true
   },
   "outputs": [
    {
     "name": "stdout",
     "output_type": "stream",
     "text": [
      "tensor(19.5052, grad_fn=<NllLossBackward0>)\n",
      "tensor(19.1391, grad_fn=<NllLossBackward0>)\n",
      "tensor(18.8242, grad_fn=<NllLossBackward0>)\n",
      "tensor(18.5540, grad_fn=<NllLossBackward0>)\n",
      "tensor(18.3130, grad_fn=<NllLossBackward0>)\n",
      "tensor(18.0913, grad_fn=<NllLossBackward0>)\n",
      "tensor(17.8840, grad_fn=<NllLossBackward0>)\n",
      "tensor(17.6888, grad_fn=<NllLossBackward0>)\n",
      "tensor(17.5042, grad_fn=<NllLossBackward0>)\n",
      "tensor(17.3294, grad_fn=<NllLossBackward0>)\n",
      "tensor(17.1639, grad_fn=<NllLossBackward0>)\n",
      "tensor(17.0072, grad_fn=<NllLossBackward0>)\n",
      "tensor(16.8587, grad_fn=<NllLossBackward0>)\n",
      "tensor(16.7177, grad_fn=<NllLossBackward0>)\n",
      "tensor(16.5834, grad_fn=<NllLossBackward0>)\n",
      "tensor(16.4550, grad_fn=<NllLossBackward0>)\n",
      "tensor(16.3314, grad_fn=<NllLossBackward0>)\n",
      "tensor(16.2122, grad_fn=<NllLossBackward0>)\n",
      "tensor(16.0965, grad_fn=<NllLossBackward0>)\n",
      "tensor(15.9839, grad_fn=<NllLossBackward0>)\n",
      "tensor(15.8741, grad_fn=<NllLossBackward0>)\n",
      "tensor(15.7667, grad_fn=<NllLossBackward0>)\n",
      "tensor(15.6614, grad_fn=<NllLossBackward0>)\n",
      "tensor(15.5582, grad_fn=<NllLossBackward0>)\n",
      "tensor(15.4567, grad_fn=<NllLossBackward0>)\n",
      "tensor(15.3569, grad_fn=<NllLossBackward0>)\n",
      "tensor(15.2588, grad_fn=<NllLossBackward0>)\n",
      "tensor(15.1621, grad_fn=<NllLossBackward0>)\n",
      "tensor(15.0669, grad_fn=<NllLossBackward0>)\n",
      "tensor(14.9732, grad_fn=<NllLossBackward0>)\n",
      "tensor(14.8807, grad_fn=<NllLossBackward0>)\n",
      "tensor(14.7896, grad_fn=<NllLossBackward0>)\n",
      "tensor(14.6998, grad_fn=<NllLossBackward0>)\n",
      "tensor(14.6112, grad_fn=<NllLossBackward0>)\n",
      "tensor(14.5238, grad_fn=<NllLossBackward0>)\n",
      "tensor(14.4376, grad_fn=<NllLossBackward0>)\n",
      "tensor(14.3525, grad_fn=<NllLossBackward0>)\n",
      "tensor(14.2686, grad_fn=<NllLossBackward0>)\n",
      "tensor(14.1857, grad_fn=<NllLossBackward0>)\n",
      "tensor(14.1039, grad_fn=<NllLossBackward0>)\n",
      "tensor(14.0231, grad_fn=<NllLossBackward0>)\n",
      "tensor(13.9433, grad_fn=<NllLossBackward0>)\n",
      "tensor(13.8645, grad_fn=<NllLossBackward0>)\n",
      "tensor(13.7866, grad_fn=<NllLossBackward0>)\n",
      "tensor(13.7097, grad_fn=<NllLossBackward0>)\n",
      "tensor(13.6337, grad_fn=<NllLossBackward0>)\n",
      "tensor(13.5586, grad_fn=<NllLossBackward0>)\n",
      "tensor(13.4844, grad_fn=<NllLossBackward0>)\n",
      "tensor(13.4111, grad_fn=<NllLossBackward0>)\n",
      "tensor(13.3386, grad_fn=<NllLossBackward0>)\n",
      "tensor(13.2670, grad_fn=<NllLossBackward0>)\n",
      "tensor(13.1962, grad_fn=<NllLossBackward0>)\n",
      "tensor(13.1263, grad_fn=<NllLossBackward0>)\n",
      "tensor(13.0571, grad_fn=<NllLossBackward0>)\n",
      "tensor(12.9888, grad_fn=<NllLossBackward0>)\n",
      "tensor(12.9213, grad_fn=<NllLossBackward0>)\n",
      "tensor(12.8546, grad_fn=<NllLossBackward0>)\n",
      "tensor(12.7886, grad_fn=<NllLossBackward0>)\n",
      "tensor(12.7235, grad_fn=<NllLossBackward0>)\n",
      "tensor(12.6592, grad_fn=<NllLossBackward0>)\n",
      "tensor(12.5956, grad_fn=<NllLossBackward0>)\n",
      "tensor(12.5328, grad_fn=<NllLossBackward0>)\n",
      "tensor(12.4708, grad_fn=<NllLossBackward0>)\n",
      "tensor(12.4096, grad_fn=<NllLossBackward0>)\n",
      "tensor(12.3491, grad_fn=<NllLossBackward0>)\n",
      "tensor(12.2895, grad_fn=<NllLossBackward0>)\n",
      "tensor(12.2306, grad_fn=<NllLossBackward0>)\n",
      "tensor(12.1725, grad_fn=<NllLossBackward0>)\n",
      "tensor(12.1153, grad_fn=<NllLossBackward0>)\n",
      "tensor(12.0588, grad_fn=<NllLossBackward0>)\n",
      "tensor(12.0032, grad_fn=<NllLossBackward0>)\n",
      "tensor(11.9484, grad_fn=<NllLossBackward0>)\n",
      "tensor(11.8945, grad_fn=<NllLossBackward0>)\n",
      "tensor(11.8415, grad_fn=<NllLossBackward0>)\n",
      "tensor(11.7893, grad_fn=<NllLossBackward0>)\n",
      "tensor(11.7380, grad_fn=<NllLossBackward0>)\n",
      "tensor(11.6876, grad_fn=<NllLossBackward0>)\n",
      "tensor(11.6381, grad_fn=<NllLossBackward0>)\n",
      "tensor(11.5895, grad_fn=<NllLossBackward0>)\n",
      "tensor(11.5418, grad_fn=<NllLossBackward0>)\n",
      "tensor(11.4951, grad_fn=<NllLossBackward0>)\n",
      "tensor(11.4493, grad_fn=<NllLossBackward0>)\n",
      "tensor(11.4044, grad_fn=<NllLossBackward0>)\n",
      "tensor(11.3605, grad_fn=<NllLossBackward0>)\n",
      "tensor(11.3174, grad_fn=<NllLossBackward0>)\n",
      "tensor(11.2752, grad_fn=<NllLossBackward0>)\n",
      "tensor(11.2339, grad_fn=<NllLossBackward0>)\n",
      "tensor(11.1934, grad_fn=<NllLossBackward0>)\n",
      "tensor(11.1537, grad_fn=<NllLossBackward0>)\n",
      "tensor(11.1148, grad_fn=<NllLossBackward0>)\n",
      "tensor(11.0766, grad_fn=<NllLossBackward0>)\n",
      "tensor(11.0392, grad_fn=<NllLossBackward0>)\n",
      "tensor(11.0024, grad_fn=<NllLossBackward0>)\n",
      "tensor(10.9663, grad_fn=<NllLossBackward0>)\n",
      "tensor(10.9308, grad_fn=<NllLossBackward0>)\n",
      "tensor(10.8958, grad_fn=<NllLossBackward0>)\n",
      "tensor(10.8614, grad_fn=<NllLossBackward0>)\n",
      "tensor(10.8275, grad_fn=<NllLossBackward0>)\n",
      "tensor(10.7941, grad_fn=<NllLossBackward0>)\n",
      "tensor(10.7612, grad_fn=<NllLossBackward0>)\n"
     ]
    }
   ],
   "source": [
    "for _ in range(100):\n",
    "    emb=C[X]\n",
    "    #feed forward\n",
    "    h=torch.tanh(emb.view(-1,6) @ W1 + b1) # this is the first hidden layer\n",
    "    logits=h @ W2 +b2\n",
    "    loss=F.cross_entropy(logits,Y)\n",
    "    print(loss)\n",
    "    # the backwrd\n",
    "    for p in parameters:\n",
    "        p.grad=None\n",
    "    \n",
    "    #back prop\n",
    "    loss.backward()\n",
    "    \n",
    "    #update the weig\n",
    "    for p in parameters:\n",
    "        p.data+= -0.01*p.grad"
   ]
  },
  {
   "cell_type": "markdown",
   "id": "32f7d4af-0fa8-400e-b19c-e157bbcfbfa1",
   "metadata": {},
   "source": [
    "# with mini batches training....expected to be much faster"
   ]
  },
  {
   "cell_type": "code",
   "execution_count": 50,
   "id": "107215c8-bcf8-43f7-9df2-ce1a40d702ff",
   "metadata": {},
   "outputs": [
    {
     "name": "stdout",
     "output_type": "stream",
     "text": [
      "8.950396537780762\n"
     ]
    }
   ],
   "source": [
    "for _ in range(100):\n",
    "    xi=torch.randint(0,X.shape[0],(32,))  # we bathcing the training set into batches of 32\n",
    "    emb=C[X[xi]]\n",
    "    #feed forward\n",
    "    h=torch.tanh(emb.view(-1,6) @ W1 + b1) # this is the first hidden layer\n",
    "    logits=h @ W2 +b2\n",
    "    loss=F.cross_entropy(logits,Y[xi])\n",
    "    #print(loss.item())\n",
    "    # the backwrd\n",
    "    for p in parameters:\n",
    "        p.grad=None\n",
    "    \n",
    "    #back prop\n",
    "    loss.backward()\n",
    "    \n",
    "    #update the weig\n",
    "    for p in parameters:\n",
    "        p.data+= -0.01*p.grad\n",
    "print(loss.item())  # this is the batch loss"
   ]
  },
  {
   "cell_type": "code",
   "execution_count": 51,
   "id": "fbc2f55f-615a-4d2d-83db-dce3d2721d85",
   "metadata": {},
   "outputs": [
    {
     "data": {
      "text/plain": [
       "8.37658405303955"
      ]
     },
     "execution_count": 51,
     "metadata": {},
     "output_type": "execute_result"
    }
   ],
   "source": [
    "emb=C[X]\n",
    "h=torch.tanh(emb.view(-1,6) @ W1 +b1)\n",
    "logits=h @ W2 +b2\n",
    "loss=F.cross_entropy(logits,Y)\n",
    "loss.item()"
   ]
  },
  {
   "cell_type": "markdown",
   "id": "c227b14e-efd3-4360-89ad-91a6b6ba2f1a",
   "metadata": {},
   "source": [
    "# lets do a learning rate adjustment"
   ]
  },
  {
   "cell_type": "code",
   "execution_count": 52,
   "id": "140f8bfd-f2a6-438a-bb84-de0140300a0a",
   "metadata": {},
   "outputs": [],
   "source": [
    "C=torch.randn((27,2),generator=g,requires_grad=True)\n",
    "W1=torch.randn((6,100),generator=g,requires_grad=True)\n",
    "b1=torch.randn(100,generator=g,requires_grad=True)\n",
    "W2=torch.randn((100,27),generator=g,requires_grad=True)\n",
    "b2=torch.randn(27,generator=g,requires_grad=True)\n",
    "parameters=[C,W1,b1,W2,b2]"
   ]
  },
  {
   "cell_type": "code",
   "execution_count": 53,
   "id": "7260b02e-aa78-469c-a6fe-926427dc38cd",
   "metadata": {
    "scrolled": true
   },
   "outputs": [],
   "source": [
    "lre=torch.linspace(-3,0,1000)\n",
    "lrs=lre**10"
   ]
  },
  {
   "cell_type": "code",
   "execution_count": 54,
   "id": "90e161ed-e09d-47c2-856e-ede6ee8d9cfc",
   "metadata": {},
   "outputs": [],
   "source": [
    "lri=[]\n",
    "lossi=[]"
   ]
  },
  {
   "cell_type": "code",
   "execution_count": 55,
   "id": "be52ed1e-1f8d-4f3b-8a5a-55954e5b702a",
   "metadata": {},
   "outputs": [
    {
     "name": "stdout",
     "output_type": "stream",
     "text": [
      "2.7451956272125244\n"
     ]
    }
   ],
   "source": [
    "for i in range(10000):\n",
    "    \n",
    "    xi=torch.randint(0,X.shape[0],(32,))  # we bathcing the training set into batches of 32\n",
    "    emb=C[X[xi]]\n",
    "    #feed forward\n",
    "    h=torch.tanh(emb.view(-1,6) @ W1 + b1) # this is the first hidden layer\n",
    "    logits=h @ W2 +b2\n",
    "    loss=F.cross_entropy(logits,Y[xi])\n",
    "    #print(loss.item())\n",
    "    # the backwrd\n",
    "    for p in parameters:\n",
    "        p.grad=None\n",
    "    \n",
    "    #back prop\n",
    "    loss.backward()\n",
    "\n",
    "    #update the weig\n",
    "    for p in parameters:\n",
    "        #p.data+= -lre[i]*p.grad\n",
    "        p.data+= -0.1*p.grad\n",
    "        \n",
    "    #lets save the parameters\n",
    "    #lri.append(lre[i])\n",
    "    lossi.append(loss.item())\n",
    "    \n",
    "print(loss.item())  # this is the batch loss"
   ]
  },
  {
   "cell_type": "code",
   "execution_count": 56,
   "id": "6e2a5ad5-2f7f-4fa3-8369-e969888f3485",
   "metadata": {},
   "outputs": [
    {
     "data": {
      "text/plain": [
       "2.4502949714660645"
      ]
     },
     "execution_count": 56,
     "metadata": {},
     "output_type": "execute_result"
    }
   ],
   "source": [
    "emb=C[X]\n",
    "h=torch.tanh(emb.view(-1,6) @ W1 +b1)\n",
    "logits=h @ W2 +b2\n",
    "loss=F.cross_entropy(logits,Y)\n",
    "loss.item()"
   ]
  },
  {
   "cell_type": "code",
   "execution_count": 57,
   "id": "820517c1-c50a-4fb9-bb05-fec2468a51d2",
   "metadata": {},
   "outputs": [
    {
     "data": {
      "text/plain": [
       "[<matplotlib.lines.Line2D at 0x1b09f28f070>]"
      ]
     },
     "execution_count": 57,
     "metadata": {},
     "output_type": "execute_result"
    },
    {
     "data": {
      "image/png": "[encoded data removed]",
      "text/plain": [
       "<Figure size 640x480 with 1 Axes>"
      ]
     },
     "metadata": {},
     "output_type": "display_data"
    }
   ],
   "source": [
    "plt.plot(lossi)"
   ]
  },
  {
   "cell_type": "markdown",
   "id": "b9344948-5361-445a-9c34-b6d41de3fad6",
   "metadata": {},
   "source": [
    "# lets seperate our data into training and validating sets"
   ]
  },
  {
   "cell_type": "code",
   "execution_count": 58,
   "id": "ae789acf-80d9-496c-8495-3ca3b2c4f274",
   "metadata": {},
   "outputs": [],
   "source": [
    "import random\n",
    "random.seed(42)"
   ]
  },
  {
   "cell_type": "code",
   "execution_count": 125,
   "id": "6c37eb65-5f0c-4ea8-b055-0fcfca1ed018",
   "metadata": {},
   "outputs": [],
   "source": [
    "def build_dataset(words):\n",
    "    ''' separated the data/words into traingin,validating and testing set and train\n",
    "     on the training data'''\n",
    "    \n",
    "    block_size=3\n",
    "    X,Y=[],[]\n",
    "    for w in words:\n",
    "        context=[0]*block_size\n",
    "        for ch in w+'.':\n",
    "            ix=stoi[ch]\n",
    "            X.append(context)\n",
    "            Y.append(ix)\n",
    "            #print(\"\".join(itos[i] for i in context),'--->',itos[ix])\n",
    "            context=context[1:]+[ix]\n",
    "    \n",
    "    X=torch.tensor(X)\n",
    "    Y=torch.tensor(Y)\n",
    "    return X,Y\n",
    "\n",
    "\n",
    "random.shuffle(words)\n",
    "n1=int(0.8*len(words))\n",
    "n2=int(0.9*len(words))\n",
    "\n",
    "xtr,ytr=build_dataset(words[:n1])\n",
    "xval,yval=build_dataset(words[n1:n2])\n",
    "xtest,ytest=build_dataset(words[n2:])"
   ]
  },
  {
   "cell_type": "code",
   "execution_count": 100,
   "id": "05f8f254-4891-4acb-a977-c9b59e7d1ff3",
   "metadata": {},
   "outputs": [],
   "source": [
    "C=torch.randn((27,2),generator=g)\n",
    "W1=torch.randn((6,300),generator=g)\n",
    "b1=torch.randn(300,generator=g)\n",
    "W2=torch.randn((300,27),generator=g)\n",
    "b2=torch.randn(27,generator=g)\n",
    "parameters=[C,W1,b1,W2,b2]"
   ]
  },
  {
   "cell_type": "code",
   "execution_count": 101,
   "id": "c375eb65-77e8-446c-a607-5ce559d48c43",
   "metadata": {},
   "outputs": [],
   "source": [
    "lre=torch.linspace(-3,0,1000)\n",
    "lrs=lre**10"
   ]
  },
  {
   "cell_type": "code",
   "execution_count": 102,
   "id": "b65ef79d-bf15-4772-aa6f-25e214335e7f",
   "metadata": {},
   "outputs": [],
   "source": [
    "lri=[]\n",
    "lossi=[]\n",
    "steps=[]"
   ]
  },
  {
   "cell_type": "code",
   "execution_count": 103,
   "id": "761876f9-e0ba-49f5-89e8-b800727a64d6",
   "metadata": {},
   "outputs": [],
   "source": [
    "for p in parameters:\n",
    "    p.requires_grad=True"
   ]
  },
  {
   "cell_type": "code",
   "execution_count": 104,
   "id": "18551f74-0106-47a2-8f95-82d625d1d15e",
   "metadata": {},
   "outputs": [
    {
     "data": {
      "text/plain": [
       "torch.Size([22827, 3, 2])"
      ]
     },
     "execution_count": 104,
     "metadata": {},
     "output_type": "execute_result"
    }
   ],
   "source": [
    "emb.shape"
   ]
  },
  {
   "cell_type": "code",
   "execution_count": 105,
   "id": "70d72400-c098-42b4-a55f-0592a7b90b7c",
   "metadata": {},
   "outputs": [],
   "source": [
    "emb=C[xtr]\n",
    "h=torch.tanh(emb.view(-1,6)@W1 + b1)\n",
    "logits=h@W2+b2\n",
    "loss=F.cross_entropy(logits,ytr)"
   ]
  },
  {
   "cell_type": "code",
   "execution_count": 106,
   "id": "73347b5b-f061-4135-8ec0-2bdd8f35a189",
   "metadata": {},
   "outputs": [
    {
     "data": {
      "text/plain": [
       "(torch.Size([182473, 3]), torch.Size([182473]))"
      ]
     },
     "execution_count": 106,
     "metadata": {},
     "output_type": "execute_result"
    }
   ],
   "source": [
    "xtr.shape,ytr.shape"
   ]
  },
  {
   "cell_type": "code",
   "execution_count": 107,
   "id": "2b64e1e9-6f67-44c8-8025-3e4d52af3641",
   "metadata": {},
   "outputs": [
    {
     "data": {
      "text/plain": [
       "(torch.Size([22827, 3]), torch.Size([22827]))"
      ]
     },
     "execution_count": 107,
     "metadata": {},
     "output_type": "execute_result"
    }
   ],
   "source": [
    "xval.shape,yval.shape"
   ]
  },
  {
   "cell_type": "code",
   "execution_count": 108,
   "id": "d028bc6e-74c3-43cb-a463-e7d4524bba0f",
   "metadata": {},
   "outputs": [
    {
     "data": {
      "text/plain": [
       "(torch.Size([22846, 3]), torch.Size([22846]))"
      ]
     },
     "execution_count": 108,
     "metadata": {},
     "output_type": "execute_result"
    }
   ],
   "source": [
    "xtest.shape,ytest.shape"
   ]
  },
  {
   "cell_type": "code",
   "execution_count": 114,
   "id": "3d7f000f-9c8a-44bb-8d3c-2049f7216cd5",
   "metadata": {},
   "outputs": [
    {
     "name": "stdout",
     "output_type": "stream",
     "text": [
      "2.438992500305176\n"
     ]
    }
   ],
   "source": [
    "# train on batches of training set\n",
    "for i in range(10000):\n",
    "    \n",
    "    xi=torch.randint(0,xtr.shape[0],(32,))  # we bathcing the training set into batches of 32\n",
    "    emb=C[xtr[xi]]\n",
    "    #feed forward\n",
    "    h=torch.tanh(emb.view(-1,6) @ W1 + b1) # this is the first hidden layer\n",
    "    logits=h @ W2 +b2\n",
    "    loss=F.cross_entropy(logits,ytr[xi])\n",
    "    #print(loss.item())\n",
    "    # the backwrd\n",
    "    for p in parameters:\n",
    "        p.grad=None\n",
    "    \n",
    "    #back prop\n",
    "    loss.backward()\n",
    "\n",
    "    #update the weig\n",
    "    for p in parameters:\n",
    "        #p.data+= -lre[i]*p.grad\n",
    "        p.data+= -0.01*p.grad\n",
    "        \n",
    "    #lets save the parameters\n",
    "    #lri.append(lre[i])\n",
    "    steps.append(i)\n",
    "    lossi.append(loss.item())\n",
    "    \n",
    "print(loss.item())  # this is the batch loss"
   ]
  },
  {
   "cell_type": "code",
   "execution_count": 115,
   "id": "4e66cafe-c595-45e5-8d5b-4987eb40650d",
   "metadata": {},
   "outputs": [],
   "source": [
    "emb=C[xval]\n",
    "h=torch.tanh(emb.view(-1,6) @ W1 +b1)\n",
    "logits=h@W2 +b2\n",
    "loss=F.cross_entropy(logits,yval)"
   ]
  },
  {
   "cell_type": "code",
   "execution_count": 116,
   "id": "6199ef72-9d7d-4bb0-b211-9ab67506867e",
   "metadata": {},
   "outputs": [
    {
     "data": {
      "text/plain": [
       "2.496100664138794"
      ]
     },
     "execution_count": 116,
     "metadata": {},
     "output_type": "execute_result"
    }
   ],
   "source": [
    "loss.item()"
   ]
  },
  {
   "cell_type": "code",
   "execution_count": 117,
   "id": "efe630e2-8fa8-4d38-acc6-c54e74401e53",
   "metadata": {},
   "outputs": [
    {
     "data": {
      "text/plain": [
       "[<matplotlib.lines.Line2D at 0x1b09f32c640>]"
      ]
     },
     "execution_count": 117,
     "metadata": {},
     "output_type": "execute_result"
    },
    {
     "data": {
      "image/png": "[encoded data removed]",
      "text/plain": [
       "<Figure size 640x480 with 1 Axes>"
      ]
     },
     "metadata": {},
     "output_type": "display_data"
    }
   ],
   "source": [
    "plt.plot(steps,lossi)"
   ]
  },
  {
   "cell_type": "markdown",
   "id": "700d2854-7776-4d74-8e72-2b82c9ea6b5b",
   "metadata": {},
   "source": [
    "# lets plot the embedding of the charachters"
   ]
  },
  {
   "cell_type": "code",
   "execution_count": 120,
   "id": "15125695-e119-4b95-8b99-3062345a404e",
   "metadata": {},
   "outputs": [
    {
     "data": {
      "image/png": "[encoded data removed]",
      "text/plain": [
       "<Figure size 800x800 with 1 Axes>"
      ]
     },
     "metadata": {},
     "output_type": "display_data"
    }
   ],
   "source": [
    "plt.figure(figsize=(8,8))\n",
    "plt.scatter(C[:,0].data,C[:,1].data,s=200)\n",
    "for i in range(C.shape[0]):\n",
    "    plt.text(C[i,0].item(),C[i,1].item(),itos[i],ha=\"center\",va=\"center\",color=\"white\")\n",
    "plt.grid('minor')"
   ]
  },
  {
   "cell_type": "markdown",
   "id": "0052f8bd-3880-41ab-8bae-cecc9b2b4db3",
   "metadata": {},
   "source": [
    "# lets make our vector embedding big"
   ]
  },
  {
   "cell_type": "code",
   "execution_count": 127,
   "id": "d7e399a8-a839-468b-9102-7b575d6c2907",
   "metadata": {},
   "outputs": [],
   "source": [
    "C=torch.randn((27,10),generator=g)\n",
    "W1=torch.randn((30,200),generator=g)\n",
    "b1=torch.randn(200,generator=g)\n",
    "W2=torch.randn((200,27),generator=g)\n",
    "b2=torch.randn(27,generator=g)\n",
    "parameters=[C,W1,b1,W2,b2]"
   ]
  },
  {
   "cell_type": "code",
   "execution_count": 128,
   "id": "d7dfa22e-f8df-48e9-b973-947cbce8c871",
   "metadata": {},
   "outputs": [
    {
     "data": {
      "text/plain": [
       "11897"
      ]
     },
     "execution_count": 128,
     "metadata": {},
     "output_type": "execute_result"
    }
   ],
   "source": [
    "sum(p.nelement() for p in parameters)"
   ]
  },
  {
   "cell_type": "code",
   "execution_count": 130,
   "id": "87c02a7c-aba9-42df-8c08-492d7e8cb492",
   "metadata": {},
   "outputs": [],
   "source": [
    "for p in parameters:\n",
    "    p.requires_grad=True"
   ]
  },
  {
   "cell_type": "code",
   "execution_count": 140,
   "id": "4050e278-fd43-4e32-aae3-3cbfd66e3d98",
   "metadata": {},
   "outputs": [],
   "source": [
    "lre=torch.linspace(-3,0,1000)\n",
    "lrs=lre**10"
   ]
  },
  {
   "cell_type": "code",
   "execution_count": 133,
   "id": "7268b763-c8ec-4945-bb23-bf0cba45d156",
   "metadata": {},
   "outputs": [],
   "source": [
    "lri=[]\n",
    "lossi=[]\n",
    "steps=[]"
   ]
  },
  {
   "cell_type": "code",
   "execution_count": 141,
   "id": "b0424c34-7af4-4038-9345-424295c0862c",
   "metadata": {},
   "outputs": [
    {
     "name": "stdout",
     "output_type": "stream",
     "text": [
      "2.129751682281494\n"
     ]
    }
   ],
   "source": [
    "# train on batches of training set\n",
    "for i in range(200000):\n",
    "    \n",
    "    xi=torch.randint(0,xtr.shape[0],(32,))  # we bathcing the training set into batches of 32\n",
    "    emb=C[xtr[xi]]\n",
    "    #feed forward\n",
    "    h=torch.tanh(emb.view(-1,30) @ W1 + b1) # this is the first hidden layer\n",
    "    logits=h @ W2 +b2\n",
    "    loss=F.cross_entropy(logits,ytr[xi])\n",
    "    #print(loss.item())\n",
    "    # the backwrd\n",
    "    for p in parameters:\n",
    "        p.grad=None\n",
    "    \n",
    "    #back prop\n",
    "    loss.backward()\n",
    "\n",
    "    #update the weig\n",
    "    for p in parameters:\n",
    "        #update the learning rate\n",
    "        lr=0.1 if i<100000 else 0.01\n",
    "        p.data+= -0.1*p.grad\n",
    "        \n",
    "    #lets save the parameters\n",
    "    #lri.append(lre[i])\n",
    "    steps.append(i)\n",
    "    lossi.append(loss.log10().item())  #this is the log loss \n",
    "    \n",
    "print(loss.item())  # this is the batch loss"
   ]
  },
  {
   "cell_type": "code",
   "execution_count": 142,
   "id": "06293650-ada1-4b6d-ac54-0ab75d093321",
   "metadata": {},
   "outputs": [
    {
     "data": {
      "text/plain": [
       "[<matplotlib.lines.Line2D at 0x1b0a25cf2b0>]"
      ]
     },
     "execution_count": 142,
     "metadata": {},
     "output_type": "execute_result"
    },
    {
     "data": {
      "image/png": "[encoded data removed]",
      "text/plain": [
       "<Figure size 640x480 with 1 Axes>"
      ]
     },
     "metadata": {},
     "output_type": "display_data"
    }
   ],
   "source": [
    "plt.plot(steps,lossi)"
   ]
  },
  {
   "cell_type": "code",
   "execution_count": 143,
   "id": "c7553e64-3776-4adf-b7a3-4c9ffc7a0de9",
   "metadata": {},
   "outputs": [
    {
     "data": {
      "text/plain": [
       "2.228083372116089"
      ]
     },
     "execution_count": 143,
     "metadata": {},
     "output_type": "execute_result"
    }
   ],
   "source": [
    "emb=C[xval]\n",
    "h=torch.tanh(emb.view(-1,30) @ W1 +b1)\n",
    "logits=h@W2 +b2\n",
    "loss=F.cross_entropy(logits,yval)\n",
    "loss.item()"
   ]
  },
  {
   "cell_type": "markdown",
   "id": "93c7f37f-de6d-4829-8abe-ad7ab5fd2ba3",
   "metadata": {},
   "source": [
    "# and know lets the name our neural net can come up with"
   ]
  },
  {
   "cell_type": "code",
   "execution_count": 164,
   "id": "3cd6f287-bbaa-42f4-b394-71c805af452b",
   "metadata": {},
   "outputs": [
    {
     "data": {
      "text/plain": [
       "torch.Size([3, 10])"
      ]
     },
     "execution_count": 164,
     "metadata": {},
     "output_type": "execute_result"
    }
   ],
   "source": [
    "context=[0]*block_size\n",
    "C[torch.tensor(context)].shape"
   ]
  },
  {
   "cell_type": "code",
   "execution_count": 154,
   "id": "85e1f410-e0cf-47e7-8fde-b6d69aac34ba",
   "metadata": {},
   "outputs": [
    {
     "name": "stdout",
     "output_type": "stream",
     "text": [
      "mohajimya.\n",
      "zeee.\n",
      "med.\n",
      "millo.\n",
      "everstendraeg.\n",
      "adee.\n",
      "dee.\n",
      "ivonni.\n",
      "jenrikeiseson.\n",
      "arleigh.\n",
      "moharlin.\n",
      "shervis.\n",
      "himier.\n",
      "jenie.\n",
      "jevionnie.\n",
      "couu.\n",
      "mather.\n",
      "jamilianki.\n",
      "kayjahsin.\n",
      "deshil.\n"
     ]
    }
   ],
   "source": [
    "g=torch.Generator().manual_seed(2147483647 + 10)\n",
    "for _ in range(20):\n",
    "    out=[]\n",
    "    context=[0]*block_size #this is a 1*block_size\n",
    "    while True:\n",
    "        emb=C[torch.tensor([context])]  \n",
    "        h=torch.tanh(emb.view(1,-1) @ W1 +b1)\n",
    "        logits=h@W2+b2\n",
    "        probs=torch.softmax(logits,1)\n",
    "        ix=torch.multinomial(probs,num_samples=1,generator=g).item()\n",
    "        context=context[1:]+[ix]\n",
    "        out.append(ix)\n",
    "        if ix==0:\n",
    "            break\n",
    "    print(\"\".join (itos[i] for i in out))"
   ]
  },
  {
   "cell_type": "code",
   "execution_count": null,
   "id": "f0970825-8453-455f-88a6-2f8619d51307",
   "metadata": {},
   "outputs": [],
   "source": []
  }
 ],
 "metadata": {
  "kernelspec": {
   "display_name": "Python 3 (ipykernel)",
   "language": "python",
   "name": "python3"
  },
  "language_info": {
   "codemirror_mode": {
    "name": "ipython",
    "version": 3
   },
   "file_extension": ".py",
   "mimetype": "text/x-python",
   "name": "python",
   "nbconvert_exporter": "python",
   "pygments_lexer": "ipython3",
   "version": "3.8.17"
  }
 },
 "nbformat": 4,
 "nbformat_minor": 5
}
