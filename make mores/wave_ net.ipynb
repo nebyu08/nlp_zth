{
 "cells": [
  {
   "cell_type": "code",
   "execution_count": 187,
   "id": "4dbe3096-6d5b-47ca-aa73-8c4e92f1e1e4",
   "metadata": {},
   "outputs": [],
   "source": [
    "import torch\n",
    "import torch.nn.functional as F\n",
    "import matplotlib.pyplot as plt"
   ]
  },
  {
   "cell_type": "code",
   "execution_count": 188,
   "id": "99986dd8-70cc-4ec4-9ad9-c3942ca4ee9f",
   "metadata": {},
   "outputs": [],
   "source": [
    "torch.manual_seed(42);"
   ]
  },
  {
   "cell_type": "code",
   "execution_count": 189,
   "id": "ac3f480a-1f6e-4e76-83de-465d0d57d7bc",
   "metadata": {},
   "outputs": [],
   "source": [
    "words=open(\"names.txt\").read().splitlines()"
   ]
  },
  {
   "cell_type": "code",
   "execution_count": 190,
   "id": "8e467631-ba7e-46e4-b81a-bcb68d4f6c0b",
   "metadata": {},
   "outputs": [],
   "source": [
    "# lets make sring to charachters and charachters to string\n",
    "char=sorted(list(set(\"\".join(words))))\n",
    "stoi={s:i+1 for i,s in enumerate(char)}\n",
    "stoi['.']=0\n",
    "itos={i:s for s,i in stoi.items()}"
   ]
  },
  {
   "cell_type": "code",
   "execution_count": 191,
   "id": "2977f070-ad01-4e88-90da-6b65f7b63a62",
   "metadata": {},
   "outputs": [
    {
     "data": {
      "text/plain": [
       "27"
      ]
     },
     "execution_count": 191,
     "metadata": {},
     "output_type": "execute_result"
    }
   ],
   "source": [
    "vocab_size=len(itos)\n",
    "vocab_size"
   ]
  },
  {
   "cell_type": "code",
   "execution_count": 192,
   "id": "c9734557-3459-42e3-9c17-fee2349dbb73",
   "metadata": {},
   "outputs": [],
   "source": [
    "import random\n",
    "random.seed(42)"
   ]
  },
  {
   "cell_type": "code",
   "execution_count": 193,
   "id": "ada789e6-5d18-4143-8f8b-21fc1d554593",
   "metadata": {},
   "outputs": [],
   "source": [
    "block_size=3\n",
    "\n",
    "def build_dataset(words):\n",
    "    X,Y=[],[]\n",
    "    for w in words:\n",
    "        context=[0]*3\n",
    "        for ch in w+'.':\n",
    "            ix=stoi[ch]\n",
    "            X.append(context)\n",
    "            Y.append(ix)\n",
    "            context=context[1:]+[ix]\n",
    "    X=torch.tensor(X)\n",
    "    Y=torch.tensor(Y)\n",
    "    #print(X,Y)\n",
    "    return X,Y\n",
    "    \n",
    "random.shuffle(words)\n",
    "\n",
    "n1=int(0.8*len(words))\n",
    "n2=int(0.9*len(words))\n",
    "\n",
    "xtr,ytr=build_dataset(words[:n1])\n",
    "xval,yval=build_dataset(words[n1:n2])\n",
    "xtest,ytest=build_dataset(words[n2:])"
   ]
  },
  {
   "cell_type": "code",
   "execution_count": 194,
   "id": "ce6f7305-687d-4293-8609-2161d9573342",
   "metadata": {},
   "outputs": [
    {
     "name": "stdout",
     "output_type": "stream",
     "text": [
      "... ---> y\n",
      "..y ---> u\n",
      ".yu ---> h\n",
      "yuh ---> e\n",
      "uhe ---> n\n",
      "hen ---> g\n",
      "eng ---> .\n",
      "... ---> d\n",
      "..d ---> i\n",
      ".di ---> o\n",
      "dio ---> n\n",
      "ion ---> d\n",
      "ond ---> r\n",
      "ndr ---> e\n",
      "dre ---> .\n",
      "... ---> x\n",
      "..x ---> a\n",
      ".xa ---> v\n",
      "xav ---> i\n",
      "avi ---> e\n"
     ]
    }
   ],
   "source": [
    "for x,y in zip(xtr[:20],ytr[:20]):\n",
    "    print(\"\".join(itos[ix.item()] for ix in x),'--->',itos[y.item()])"
   ]
  },
  {
   "cell_type": "markdown",
   "id": "c91d359f-a8a4-4f98-bebd-4fd8a8b9b86e",
   "metadata": {},
   "source": [
    "# our cusotm torch function "
   ]
  },
  {
   "cell_type": "code",
   "execution_count": 195,
   "id": "869e795c-043f-403a-91d5-d4129080186c",
   "metadata": {},
   "outputs": [],
   "source": [
    "class Linear:\n",
    "    def __init__(self,fin,fout,bias=True):\n",
    "        self.weight=torch.randn((fin,fout))/fin**0.5\n",
    "        self.bias=torch.zeros(fout) if bias else None\n",
    "        \n",
    "    def __call__(self,X):\n",
    "        self.out=X@self.weight\n",
    "        if self.bias is not None:\n",
    "            self.out+=self.bias\n",
    "        return self.out\n",
    "    def parameters(self):\n",
    "        return [self.weight] +([] if self.bias is None else [self.bias])"
   ]
  },
  {
   "cell_type": "code",
   "execution_count": 300,
   "id": "b667199e-b930-4789-bf7f-20d177b042d4",
   "metadata": {
    "scrolled": true
   },
   "outputs": [],
   "source": [
    "class BatchNorm:\n",
    "    def __init__(self,dim,eps=1e-4,momentum=0.1):\n",
    "        self.eps=eps\n",
    "        self.momentum=momentum\n",
    "        \n",
    "        self.training=True\n",
    "        \n",
    "        self.beta=torch.zeros(dim)\n",
    "        self.gamma=torch.ones(dim)\n",
    "        \n",
    "        #parameters during inference\n",
    "            \n",
    "        self.running_mean=torch.zeros(dim)\n",
    "        self.running_std=torch.ones(dim)\n",
    "\n",
    "    def __call__(self,x):\n",
    "        if x.ndim==3:\n",
    "            dim=0\n",
    "        elif x.ndim==2:\n",
    "            dim=(0,1)\n",
    "            \n",
    "        if self.training:\n",
    "            xmean=x.mean(dim,keepdim=True)\n",
    "            xstd=x.std(dim,keepdim=True)\n",
    "        else:\n",
    "            xmean=self.running_mean\n",
    "            xstd=self.running_std\n",
    "        xhat=(x-xmean)/torch.sqrt(xstd+self.eps) #this is the \n",
    "        self.out=xhat*self.gamma+self.beta\n",
    "        \n",
    "        #update the buffer\n",
    "        if self.training:\n",
    "            with torch.no_grad():\n",
    "                self.running_mean=(1-self.momentum)*self.running_mean+self.momentum*xmean\n",
    "                self.running_std=(1-self.momentum)*self.running_std+self.momentum*xstd\n",
    "        return self.out\n",
    "        \n",
    "    def parameters(self):\n",
    "        return [self.gamma,self.beta]"
   ]
  },
  {
   "cell_type": "code",
   "execution_count": 197,
   "id": "a56b3d99-f7b6-4b60-9226-f452477cedf7",
   "metadata": {},
   "outputs": [],
   "source": [
    "class Tanh:\n",
    "    def __call__(self,x):\n",
    "        self.out=torch.tanh(x)\n",
    "        return self.out\n",
    "    def parameters(self):\n",
    "        return []"
   ]
  },
  {
   "cell_type": "code",
   "execution_count": 239,
   "id": "42a475a4-ac22-45ed-939c-200930b6fbd4",
   "metadata": {},
   "outputs": [],
   "source": [
    "class Embeding:\n",
    "    def __init__(self,num_embeding,emb_dim):\n",
    "        self.weight=torch.randn((num_embeding,emb_dim))\n",
    "        self.out=None\n",
    "    def __call__(self,IX):\n",
    "        self.out=self.weight[IX]\n",
    "        return self.out\n",
    "    def parameters(self):\n",
    "        return [self.weight]"
   ]
  },
  {
   "cell_type": "code",
   "execution_count": 199,
   "id": "6c00e830-2608-442c-aabe-1b55a43b9801",
   "metadata": {},
   "outputs": [],
   "source": [
    "class Flatten:\n",
    "    def __call__(self,x):\n",
    "       self.out=x.view(x.shape[0],-1)\n",
    "       return self.out\n",
    "    def parameters(self):\n",
    "        return []"
   ]
  },
  {
   "cell_type": "code",
   "execution_count": 277,
   "id": "13385a8e-1fec-44b3-a48f-f41a3a71b65d",
   "metadata": {},
   "outputs": [],
   "source": [
    "class FlattenConsecutive:\n",
    "    def __init__(self,n):\n",
    "        self.n=n\n",
    "    def __call__(self,X):\n",
    "        B,T,C=X.shape\n",
    "        x=X.view(B,T//self.n,C*self.n)\n",
    "        if x.shape[1]==1:\n",
    "            # this squeezes out the first dimension if it has the value 1\n",
    "            x=x.squeeze(1)\n",
    "        self.out=x\n",
    "        return self.out\n",
    "    def parameters(self):\n",
    "        return []"
   ]
  },
  {
   "cell_type": "code",
   "execution_count": 278,
   "id": "3d7d8e42-d452-4047-9bd1-28563db10262",
   "metadata": {},
   "outputs": [],
   "source": [
    "class Sequential:\n",
    "    def __init__(self,layers):\n",
    "        self.layers=layers\n",
    "    def __call__(self,x):\n",
    "        for layer in self.layers:\n",
    "            x=layer(x)\n",
    "        self.out=x\n",
    "        return self.out\n",
    "        \n",
    "    def parameters(self):\n",
    "        return [p for layer in self.layers  for p in layer.parameters()]"
   ]
  },
  {
   "cell_type": "code",
   "execution_count": 272,
   "id": "05e8a221-57d8-42d5-9912-85668f994d97",
   "metadata": {},
   "outputs": [],
   "source": [
    "block_size=3\n",
    "n_embd=10\n",
    "n_hidden=200"
   ]
  },
  {
   "cell_type": "code",
   "execution_count": 202,
   "id": "2ddb4b78-5465-4eb0-ae89-14b3f70d0892",
   "metadata": {},
   "outputs": [
    {
     "name": "stdout",
     "output_type": "stream",
     "text": [
      "12097\n"
     ]
    }
   ],
   "source": [
    "model=Sequential([\n",
    "    Embeding(vocab_size,n_embd),\n",
    "    Flatten(),\n",
    "    Linear(n_embd*block_size,n_hidden,bias=False),BatchNorm(n_hidden),Tanh(),\n",
    "    Linear(n_hidden,vocab_size)\n",
    "])\n",
    "\n",
    "with torch.no_grad():\n",
    "    layers[-1].weight*=0.1  # to make the nerual nets less sure about the first output\n",
    "parameters=model.parameters()\n",
    "\n",
    "print(sum(p.nelement() for p in parameters))\n",
    "for p in parameters:\n",
    "    p.requires_grad=True"
   ]
  },
  {
   "cell_type": "code",
   "execution_count": 203,
   "id": "c6da7c00-893d-4247-82f2-aac01ee280c0",
   "metadata": {},
   "outputs": [
    {
     "name": "stdout",
     "output_type": "stream",
     "text": [
      "the iteration 0 loss: 3.4953\n",
      "the iteration 1000 loss: 2.5027\n",
      "the iteration 2000 loss: 2.1943\n",
      "the iteration 3000 loss: 2.1675\n",
      "the iteration 4000 loss: 2.7574\n",
      "the iteration 5000 loss: 2.2987\n",
      "the iteration 6000 loss: 2.4663\n",
      "the iteration 7000 loss: 2.1088\n",
      "the iteration 8000 loss: 1.9378\n",
      "the iteration 9000 loss: 2.7322\n",
      "the iteration 10000 loss: 2.1935\n",
      "the iteration 11000 loss: 2.2584\n",
      "the iteration 12000 loss: 2.5940\n",
      "the iteration 13000 loss: 2.1728\n",
      "the iteration 14000 loss: 2.2747\n",
      "the iteration 15000 loss: 2.2781\n",
      "the iteration 16000 loss: 2.2272\n",
      "the iteration 17000 loss: 2.2163\n",
      "the iteration 18000 loss: 2.2681\n",
      "the iteration 19000 loss: 2.5228\n"
     ]
    }
   ],
   "source": [
    "# the training and optimization\n",
    "batch_size=32\n",
    "max_steps=20000\n",
    "lossi=[]\n",
    "\n",
    "for i in range(max_steps):\n",
    "    ix=torch.randint(0,xtr.shape[0],(batch_size,))\n",
    "    xb,yb=xtr[ix],ytr[ix]\n",
    "    # the feed forward \n",
    "    x=xb\n",
    "    #for layer in layers:\n",
    "    #    x=layer(x)\n",
    "    logits=model(x)  #this becoms the training of the model\n",
    "    \n",
    "    loss=F.cross_entropy(logits,yb)\n",
    "    \n",
    "    for p in parameters:\n",
    "        p.grad=None  \n",
    "    \n",
    "    loss.backward()\n",
    "\n",
    "    #update the weights\n",
    "    lr=0.1 if i<10000 else 0.01\n",
    "    for p in parameters:\n",
    "        p.data+=-lr*p.grad\n",
    "    if i%1000 == 0:\n",
    "        print(f\"the iteration {i:d} loss: {loss:.4f}\")\n",
    "    lossi.append(loss.log10().item())"
   ]
  },
  {
   "cell_type": "code",
   "execution_count": 204,
   "id": "bcaeed6d-68ef-4e7e-a1c9-fb8c58bfba0b",
   "metadata": {},
   "outputs": [
    {
     "data": {
      "text/plain": [
       "[<matplotlib.lines.Line2D at 0x1b81776eb80>]"
      ]
     },
     "execution_count": 204,
     "metadata": {},
     "output_type": "execute_result"
    },
    {
     "data": {
      "image/png": "[encoded data removed]",
      "text/plain": [
       "<Figure size 640x480 with 1 Axes>"
      ]
     },
     "metadata": {},
     "output_type": "display_data"
    }
   ],
   "source": [
    "plt.plot(lossi)"
   ]
  },
  {
   "cell_type": "code",
   "execution_count": 205,
   "id": "7f3e98bc-fba4-4db0-ae68-84ddf785d509",
   "metadata": {},
   "outputs": [
    {
     "data": {
      "image/png": "[encoded data removed]",
      "text/plain": [
       "<Figure size 640x480 with 1 Axes>"
      ]
     },
     "metadata": {},
     "output_type": "display_data"
    }
   ],
   "source": [
    "plt.plot(torch.tensor(lossi).view(-1,1000).mean(1));"
   ]
  },
  {
   "cell_type": "code",
   "execution_count": 206,
   "id": "0f2145c0-49ee-49ff-b0e4-92af4146fd67",
   "metadata": {},
   "outputs": [],
   "source": [
    "# for evaluation purposes lets set the \n",
    "for layer in model.layers:\n",
    "    layer.training=False"
   ]
  },
  {
   "cell_type": "code",
   "execution_count": 207,
   "id": "f268f19f-d264-498e-921a-53d367b3f6b1",
   "metadata": {},
   "outputs": [
    {
     "name": "stdout",
     "output_type": "stream",
     "text": [
      "train tensor(2.1744)\n",
      "valid tensor(2.1847)\n"
     ]
    }
   ],
   "source": [
    "# lets evaulate our model\n",
    "# lets check for loss on the train and validation set\n",
    "@torch.no_grad()\n",
    "def split_loss(split):\n",
    "    \n",
    "    x,y={\n",
    "        \"train\":(xtr,ytr),\n",
    "        \"valid\":(xval,yval),\n",
    "        \"test\":(xtest,ytest)\n",
    "    }[split]\n",
    "    logits=model(x)\n",
    "    loss=F.cross_entropy(logits,y)\n",
    "    print(split,loss)\n",
    "\n",
    "split_loss(\"train\")\n",
    "split_loss(\"valid\")"
   ]
  },
  {
   "cell_type": "code",
   "execution_count": 208,
   "id": "bfe05efd-1a07-4bcb-9b3d-65059f575a45",
   "metadata": {},
   "outputs": [
    {
     "name": "stdout",
     "output_type": "stream",
     "text": [
      "jaealee.\n",
      "nik.\n",
      "paiconro.\n",
      "lydenus.\n",
      "jaleet.\n",
      "mas.\n",
      "zas.\n",
      "evony.\n",
      "arion.\n",
      "yao.\n",
      "lensera.\n",
      "nastix.\n",
      "pha.\n",
      "kond.\n",
      "millyshayle.\n",
      "camaigin.\n",
      "llo.\n",
      "maleah.\n",
      "damarcell.\n",
      "grianaydarioni.\n"
     ]
    }
   ],
   "source": [
    "# sample from the model\n",
    "for _ in range(20):\n",
    "    \n",
    "    out = []\n",
    "    context = [0] * block_size # initialize with all ...\n",
    "    while True:\n",
    "      # forward pass the neural net\n",
    "      logits = model(torch.tensor([context]))\n",
    "      probs = F.softmax(logits, dim=1)\n",
    "      # sample from the distribution\n",
    "      ix = torch.multinomial(probs, num_samples=1).item()\n",
    "      # shift the context window and track the samples\n",
    "      context = context[1:] + [ix]\n",
    "      out.append(ix)\n",
    "      # if we sample the special '.' token, break\n",
    "      if ix == 0:\n",
    "        break\n",
    "    \n",
    "    print(''.join(itos[i] for i in out)) # decode and print the generated word"
   ]
  },
  {
   "cell_type": "markdown",
   "id": "86f82c8c-e2ef-4a1b-b045-dd3baf3ba81d",
   "metadata": {},
   "source": [
    "# Dilated Casual Convolutional Layer"
   ]
  },
  {
   "cell_type": "code",
   "execution_count": 301,
   "id": "01d088db-c118-4e7f-8298-e0e6b71d5c0e",
   "metadata": {},
   "outputs": [],
   "source": [
    "block_size=8\n",
    "\n",
    "def build_dataset(words):\n",
    "    X,Y=[],[]\n",
    "    for w in words:\n",
    "        context=[0]*block_size\n",
    "        for ch in w+'.':\n",
    "            ix=stoi[ch]\n",
    "            X.append(context)\n",
    "            Y.append(ix)\n",
    "            context=context[1:]+[ix]\n",
    "    X=torch.tensor(X)\n",
    "    Y=torch.tensor(Y)\n",
    "    #print(X,Y)\n",
    "    return X,Y\n",
    "    \n",
    "random.shuffle(words)\n",
    "\n",
    "n1=int(0.8*len(words))\n",
    "n2=int(0.9*len(words))\n",
    "\n",
    "xtr,ytr=build_dataset(words[:n1])\n",
    "xval,yval=build_dataset(words[n1:n2])\n",
    "xtest,ytest=build_dataset(words[n2:])"
   ]
  },
  {
   "cell_type": "code",
   "execution_count": 214,
   "id": "a6416f35-e208-4df6-aaac-bfbb354618eb",
   "metadata": {},
   "outputs": [
    {
     "name": "stdout",
     "output_type": "stream",
     "text": [
      "........ ---> m\n",
      ".......m ---> o\n",
      "......mo ---> r\n",
      ".....mor ---> g\n",
      "....morg ---> a\n",
      "...morga ---> n\n",
      "..morgan ---> .\n",
      "........ ---> f\n",
      ".......f ---> i\n",
      "......fi ---> l\n",
      ".....fil ---> i\n",
      "....fili ---> p\n",
      "...filip ---> p\n",
      "..filipp ---> o\n",
      ".filippo ---> .\n",
      "........ ---> m\n",
      ".......m ---> a\n",
      "......ma ---> i\n",
      ".....mai ---> t\n",
      "....mait ---> r\n"
     ]
    }
   ],
   "source": [
    "for x,y in zip(xtr[:20],ytr[:20]):\n",
    "    print(\"\".join(itos[ix.item()] for ix in x),'--->',itos[y.item()])"
   ]
  },
  {
   "cell_type": "code",
   "execution_count": 303,
   "id": "1c4aab9d-d071-478f-89df-32399056aaf1",
   "metadata": {},
   "outputs": [],
   "source": [
    "n_embd=24\n",
    "n_hidden=128"
   ]
  },
  {
   "cell_type": "code",
   "execution_count": 304,
   "id": "aa03e106-ba96-40c3-8744-885d0f03b602",
   "metadata": {},
   "outputs": [
    {
     "name": "stdout",
     "output_type": "stream",
     "text": [
      "76579\n"
     ]
    }
   ],
   "source": [
    "model=Sequential([\n",
    "    Embeding(vocab_size,n_embd), \n",
    "    FlattenConsecutive(2),Linear(n_embd*2,n_hidden,bias=False),BatchNorm(n_hidden),Tanh(),\n",
    "    FlattenConsecutive(2),Linear(n_hidden*2,n_hidden,bias=False),BatchNorm(n_hidden),Tanh(),\n",
    "    FlattenConsecutive(2),Linear(n_hidden*2,n_hidden,bias=False),BatchNorm(n_hidden),Tanh(),\n",
    "    Linear(n_hidden,vocab_size)\n",
    "])\n",
    "\n",
    "with torch.no_grad():\n",
    "    layers[-1].weight*=0.1  # to make the nerual nets less sure about the first output\n",
    "parameters=model.parameters()\n",
    "\n",
    "print(sum(p.nelement() for p in parameters))\n",
    "for p in parameters:\n",
    "    p.requires_grad=True"
   ]
  },
  {
   "cell_type": "code",
   "execution_count": 305,
   "id": "dde905a3-cf0a-47d1-9ed5-1232a61c58e4",
   "metadata": {},
   "outputs": [
    {
     "name": "stdout",
     "output_type": "stream",
     "text": [
      "the iteration 0 loss: 3.4599\n",
      "the iteration 10000 loss: 1.7518\n",
      "the iteration 20000 loss: 1.9033\n",
      "the iteration 30000 loss: 2.0634\n",
      "the iteration 40000 loss: 1.8013\n",
      "the iteration 50000 loss: 1.9511\n",
      "the iteration 60000 loss: 2.2378\n",
      "the iteration 70000 loss: 1.9003\n",
      "the iteration 80000 loss: 1.7617\n",
      "the iteration 90000 loss: 2.0126\n",
      "the iteration 100000 loss: 1.9237\n",
      "the iteration 110000 loss: 2.0110\n",
      "the iteration 120000 loss: 1.9218\n",
      "the iteration 130000 loss: 1.8481\n",
      "the iteration 140000 loss: 1.8762\n",
      "the iteration 150000 loss: 1.7177\n",
      "the iteration 160000 loss: 1.9795\n",
      "the iteration 170000 loss: 1.8743\n",
      "the iteration 180000 loss: 2.0817\n",
      "the iteration 190000 loss: 1.7917\n"
     ]
    }
   ],
   "source": [
    "# the training and optimization\n",
    "batch_size=32\n",
    "max_steps=200000\n",
    "lossi=[]\n",
    "\n",
    "for i in range(max_steps):\n",
    "    ix=torch.randint(0,xtr.shape[0],(batch_size,))\n",
    "    xb,yb=xtr[ix],ytr[ix]\n",
    "    # the feed forward \n",
    "    logits=model(xb)  #this becoms the training of the model\n",
    "    \n",
    "    loss=F.cross_entropy(logits,yb)\n",
    "    \n",
    "    for p in parameters:\n",
    "        p.grad=None  \n",
    "    \n",
    "    loss.backward()\n",
    "\n",
    "    #update the weights\n",
    "    lr=0.1 if i<10000 else 0.01\n",
    "    for p in parameters:\n",
    "        p.data+=-lr*p.grad\n",
    "    if i%10000 == 0:\n",
    "        print(f\"the iteration {i:d} loss: {loss:.4f}\")\n",
    "    lossi.append(loss.log10().item())"
   ]
  },
  {
   "cell_type": "code",
   "execution_count": 306,
   "id": "8a29b0a5-b51a-4e61-bb07-ace582a396f1",
   "metadata": {},
   "outputs": [],
   "source": [
    "# for evaluation purposes lets set the \n",
    "for layer in model.layers:\n",
    "    layer.training=False"
   ]
  },
  {
   "cell_type": "code",
   "execution_count": 307,
   "id": "77c636da-acaf-42ea-9b0c-bdabff04d65b",
   "metadata": {},
   "outputs": [
    {
     "name": "stdout",
     "output_type": "stream",
     "text": [
      "train tensor(1.8659)\n",
      "valid tensor(1.9986)\n"
     ]
    }
   ],
   "source": [
    "# lets evaulate our model\n",
    "# lets check for loss on the train and validation set\n",
    "@torch.no_grad()\n",
    "def split_loss(split):\n",
    "    \n",
    "    x,y={\n",
    "        \"train\":(xtr,ytr),\n",
    "        \"valid\":(xval,yval),\n",
    "        \"test\":(xtest,ytest)\n",
    "    }[split]\n",
    "    logits=model(x)\n",
    "    loss=F.cross_entropy(logits,y)\n",
    "    print(split,loss)\n",
    "\n",
    "split_loss(\"train\")\n",
    "split_loss(\"valid\")"
   ]
  },
  {
   "cell_type": "code",
   "execution_count": 308,
   "id": "6f905712-cd3f-4dba-a4d8-8194bead946a",
   "metadata": {
    "scrolled": true
   },
   "outputs": [
    {
     "name": "stdout",
     "output_type": "stream",
     "text": [
      "Embeding : (22871, 8, 24)\n",
      "FlattenConsecutive : (22871, 4, 48)\n",
      "Linear : (22871, 4, 128)\n",
      "BatchNorm : (22871, 4, 128)\n",
      "Tanh : (22871, 4, 128)\n",
      "FlattenConsecutive : (22871, 2, 256)\n",
      "Linear : (22871, 2, 128)\n",
      "BatchNorm : (22871, 2, 128)\n",
      "Tanh : (22871, 2, 128)\n",
      "FlattenConsecutive : (22871, 256)\n",
      "Linear : (22871, 128)\n",
      "BatchNorm : (22871, 128)\n",
      "Tanh : (22871, 128)\n",
      "Linear : (22871, 27)\n"
     ]
    }
   ],
   "source": [
    "for layer in model.layers:\n",
    "    print(layer.__class__.__name__,\":\",tuple(layer.out.shape))"
   ]
  },
  {
   "cell_type": "markdown",
   "id": "7d475a83-f975-4760-8bae-9ff9de955acb",
   "metadata": {},
   "source": [
    "## performance review"
   ]
  },
  {
   "cell_type": "code",
   "execution_count": 312,
   "id": "69885395-b8e0-4a0b-9a1e-d1781cdd13cc",
   "metadata": {},
   "outputs": [
    {
     "name": "stdout",
     "output_type": "stream",
     "text": [
      "train 1.8658573627471924\n",
      "val 1.998610258102417\n"
     ]
    }
   ],
   "source": [
    "# evaluate the loss\n",
    "@torch.no_grad() # this decorator disables gradient tracking inside pytorch\n",
    "def split_loss(split):\n",
    "  x,y = {\n",
    "    'train': (xtr, ytr),\n",
    "    'val': (xval, yval),\n",
    "    'test': (xtest, ytest),\n",
    "  }[split]\n",
    "  logits = model(x)\n",
    "  loss = F.cross_entropy(logits, y)\n",
    "  print(split, loss.item())\n",
    "\n",
    "split_loss('train')\n",
    "split_loss('val')"
   ]
  },
  {
   "cell_type": "markdown",
   "id": "832b1055-412c-488e-8a39-197ea6235989",
   "metadata": {},
   "source": [
    "# lets check for the thing we can generate now"
   ]
  },
  {
   "cell_type": "code",
   "execution_count": 309,
   "id": "1b635d84-cf6f-495d-915c-ead6f5bd5396",
   "metadata": {},
   "outputs": [
    {
     "name": "stdout",
     "output_type": "stream",
     "text": [
      "yaylani.\n",
      "isaki.\n",
      "jozia.\n",
      "jesiah.\n",
      "han.\n",
      "muhapalle.\n",
      "jenora.\n",
      "alexia.\n",
      "allem.\n",
      "anian.\n",
      "willowmar.\n",
      "porgen.\n",
      "kam.\n",
      "dran.\n",
      "demaary.\n",
      "ideleigh.\n",
      "shussai.\n",
      "muel.\n",
      "kassen.\n",
      "caspley.\n"
     ]
    }
   ],
   "source": [
    "# sample from the model\n",
    "for _ in range(20):\n",
    "    \n",
    "    out = []\n",
    "    context = [0] * block_size # initialize with all ...\n",
    "    while True:\n",
    "      # forward pass the neural net\n",
    "      logits = model(torch.tensor([context]))\n",
    "      probs = F.softmax(logits, dim=1)\n",
    "      # sample from the distribution\n",
    "      ix = torch.multinomial(probs, num_samples=1).item()\n",
    "      # shift the context window and track the samples\n",
    "      context = context[1:] + [ix]\n",
    "      out.append(ix)\n",
    "      # if we sample the special '.' token, break\n",
    "      if ix == 0:\n",
    "        break\n",
    "    \n",
    "    print(''.join(itos[i] for i in out)) # decode and print the generated word"
   ]
  },
  {
   "cell_type": "code",
   "execution_count": null,
   "id": "548b14c2-55fd-49ee-b29a-b74ad8c9cbe5",
   "metadata": {},
   "outputs": [],
   "source": []
  }
 ],
 "metadata": {
  "kernelspec": {
   "display_name": "Python 3 (ipykernel)",
   "language": "python",
   "name": "python3"
  },
  "language_info": {
   "codemirror_mode": {
    "name": "ipython",
    "version": 3
   },
   "file_extension": ".py",
   "mimetype": "text/x-python",
   "name": "python",
   "nbconvert_exporter": "python",
   "pygments_lexer": "ipython3",
   "version": "3.8.17"
  }
 },
 "nbformat": 4,
 "nbformat_minor": 5
}
